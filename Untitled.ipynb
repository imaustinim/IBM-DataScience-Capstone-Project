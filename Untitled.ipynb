{
 "cells": [
  {
   "cell_type": "code",
   "execution_count": 2,
   "metadata": {},
   "outputs": [],
   "source": [
    "import imaplib\n",
    "import email"
   ]
  },
  {
   "cell_type": "code",
   "execution_count": null,
   "metadata": {},
   "outputs": [],
   "source": [
    "import imaplib\n",
    "import email\n",
    "\n",
    "def extract_body(payload):\n",
    "    if isinstance(payload,str):\n",
    "        return payload\n",
    "    else:\n",
    "        return '\\n'.join([extract_body(part.get_payload()) for part in payload])\n",
    "\n",
    "conn = imaplib.IMAP4_SSL(\"imap.gmail.com\", 993)\n",
    "conn.login(\"user\", \"password\")\n",
    "conn.select()\n",
    "typ, data = conn.search(None, 'UNSEEN')\n",
    "try:\n",
    "    for num in data[0].split():\n",
    "        typ, msg_data = conn.fetch(num, '(RFC822)')\n",
    "        for response_part in msg_data:\n",
    "            if isinstance(response_part, tuple):\n",
    "                msg = email.message_from_string(response_part[1])\n",
    "                subject=msg['subject']                   \n",
    "                print(subject)\n",
    "                payload=msg.get_payload()\n",
    "                body=extract_body(payload)\n",
    "                print(body)\n",
    "        typ, response = conn.store(num, '+FLAGS', r'(\\Seen)')\n",
    "finally:\n",
    "    try:\n",
    "        conn.close()\n",
    "    except:\n",
    "        pass\n",
    "    conn.logout()"
   ]
  }
 ],
 "metadata": {
  "kernelspec": {
   "display_name": "Python 3",
   "language": "python",
   "name": "python3"
  },
  "language_info": {
   "codemirror_mode": {
    "name": "ipython",
    "version": 3
   },
   "file_extension": ".py",
   "mimetype": "text/x-python",
   "name": "python",
   "nbconvert_exporter": "python",
   "pygments_lexer": "ipython3",
   "version": "3.7.3"
  }
 },
 "nbformat": 4,
 "nbformat_minor": 2
}
